{
 "cells": [
  {
   "cell_type": "code",
   "execution_count": null,
   "id": "15ad0767",
   "metadata": {},
   "outputs": [
    {
     "name": "stdout",
     "output_type": "stream",
     "text": [
      "Requirement already satisfied: psycopg2-binary in c:\\users\\aicoe\\recommender\\venv\\lib\\site-packages (2.9.10)\n",
      "Requirement already satisfied: pandas in c:\\users\\aicoe\\recommender\\venv\\lib\\site-packages (2.2.3)\n",
      "Requirement already satisfied: numpy>=1.22.4 in c:\\users\\aicoe\\recommender\\venv\\lib\\site-packages (from pandas) (2.2.6)\n",
      "Requirement already satisfied: python-dateutil>=2.8.2 in c:\\users\\aicoe\\recommender\\venv\\lib\\site-packages (from pandas) (2.9.0.post0)\n",
      "Requirement already satisfied: pytz>=2020.1 in c:\\users\\aicoe\\recommender\\venv\\lib\\site-packages (from pandas) (2025.2)\n",
      "Requirement already satisfied: tzdata>=2022.7 in c:\\users\\aicoe\\recommender\\venv\\lib\\site-packages (from pandas) (2025.2)\n",
      "Requirement already satisfied: six>=1.5 in c:\\users\\aicoe\\recommender\\venv\\lib\\site-packages (from python-dateutil>=2.8.2->pandas) (1.17.0)\n",
      "Note: you may need to restart the kernel to use updated packages.\n"
     ]
    }
   ],
   "source": [
    "# %pip install psycopg2-binary pandas"
   ]
  },
  {
   "cell_type": "code",
   "execution_count": 2,
   "id": "66ef3b47",
   "metadata": {},
   "outputs": [],
   "source": [
    "import psycopg2\n",
    "import pandas as pd"
   ]
  },
  {
   "cell_type": "code",
   "execution_count": 3,
   "id": "ea4158a4",
   "metadata": {},
   "outputs": [],
   "source": [
    "# PostgreSQL connection parameters\n",
    "host = \"localhost\"\n",
    "database = \"recommender\"\n",
    "user = \"postgres\"\n",
    "password = \"12345678\"\n",
    "port = \"5432\"  # default PostgreSQL port"
   ]
  },
  {
   "cell_type": "code",
   "execution_count": 4,
   "id": "862fb805",
   "metadata": {},
   "outputs": [],
   "source": [
    "# Connect to PostgreSQL\n",
    "conn = psycopg2.connect(\n",
    "    host=host,\n",
    "    database=database,\n",
    "    user=user,\n",
    "    password=password,\n",
    "    port=port\n",
    ")"
   ]
  },
  {
   "cell_type": "code",
   "execution_count": 5,
   "id": "4ea91672",
   "metadata": {},
   "outputs": [],
   "source": [
    "# Query to execute\n",
    "query = \"SELECT * FROM ml_district;\""
   ]
  },
  {
   "cell_type": "code",
   "execution_count": 6,
   "id": "d3283f41",
   "metadata": {},
   "outputs": [
    {
     "name": "stderr",
     "output_type": "stream",
     "text": [
      "C:\\Users\\AICOE\\AppData\\Local\\Temp\\ipykernel_23644\\3586006943.py:2: UserWarning: pandas only supports SQLAlchemy connectable (engine/connection) or database string URI or sqlite3 DBAPI2 connection. Other DBAPI2 objects are not tested. Please consider using SQLAlchemy.\n",
      "  df = pd.read_sql_query(query, conn)\n"
     ]
    }
   ],
   "source": [
    "# Use pandas to read the query into a DataFrame\n",
    "df = pd.read_sql_query(query, conn)"
   ]
  },
  {
   "cell_type": "code",
   "execution_count": 8,
   "id": "0c7ed020",
   "metadata": {},
   "outputs": [],
   "source": [
    "# Close the connection\n",
    "conn.close()"
   ]
  },
  {
   "cell_type": "code",
   "execution_count": 9,
   "id": "d67d9b10",
   "metadata": {},
   "outputs": [
    {
     "name": "stdout",
     "output_type": "stream",
     "text": [
      "   district_id    district_name district_code   grp\n",
      "0            8       DARJEELING           309  GRPA\n",
      "1           15  PURBA MEDINIPUR           317  GRPA\n",
      "2           21        KALIMPONG           702  GRPA\n",
      "3           22         JHARGRAM           703  GRPA\n",
      "4            5  PURBA BARDHAMAN           306  GRPB\n"
     ]
    }
   ],
   "source": [
    "# Display the data\n",
    "print(df.head())"
   ]
  },
  {
   "cell_type": "code",
   "execution_count": 1,
   "id": "b9b0cf20",
   "metadata": {},
   "outputs": [],
   "source": [
    "def get_data(relation_name) :\n",
    "    import psycopg2\n",
    "    import pandas as pd\n",
    "\n",
    "    # PostgreSQL connection parameters\n",
    "    host = \"localhost\"\n",
    "    database = 'recommender'\n",
    "    user = \"postgres\"\n",
    "    password = \"12345678\"\n",
    "    port = \"5432\"  # default PostgreSQL port\n",
    "\n",
    "    # Connect to PostgreSQL\n",
    "    conn = psycopg2.connect(\n",
    "        host=host,\n",
    "        database=database,\n",
    "        user=user,\n",
    "        password=password,\n",
    "        port=port\n",
    "    )\n",
    "\n",
    "    # Query to execute\n",
    "    query = f\"SELECT * FROM {relation_name};\"\n",
    "\n",
    "    # Use pandas to read the query into a DataFrame\n",
    "    df = pd.read_sql_query(query, conn)\n",
    "\n",
    "    # Close the connection\n",
    "    conn.close()\n",
    "\n",
    "    return df"
   ]
  },
  {
   "cell_type": "code",
   "execution_count": 2,
   "id": "4a2a584d",
   "metadata": {},
   "outputs": [
    {
     "name": "stderr",
     "output_type": "stream",
     "text": [
      "C:\\Users\\AICOE\\AppData\\Local\\Temp\\ipykernel_4216\\2523492424.py:25: UserWarning: pandas only supports SQLAlchemy connectable (engine/connection) or database string URI or sqlite3 DBAPI2 connection. Other DBAPI2 objects are not tested. Please consider using SQLAlchemy.\n",
      "  df = pd.read_sql_query(query, conn)\n"
     ]
    }
   ],
   "source": [
    "block_muncipality = get_data('ml_block_municipality')"
   ]
  },
  {
   "cell_type": "code",
   "execution_count": 3,
   "id": "adb6df75",
   "metadata": {},
   "outputs": [
    {
     "name": "stderr",
     "output_type": "stream",
     "text": [
      "C:\\Users\\AICOE\\AppData\\Local\\Temp\\ipykernel_4216\\2523492424.py:25: UserWarning: pandas only supports SQLAlchemy connectable (engine/connection) or database string URI or sqlite3 DBAPI2 connection. Other DBAPI2 objects are not tested. Please consider using SQLAlchemy.\n",
      "  df = pd.read_sql_query(query, conn)\n"
     ]
    }
   ],
   "source": [
    "bsk_master = get_data('ml_bsk_master')"
   ]
  },
  {
   "cell_type": "code",
   "execution_count": 4,
   "id": "e5f51ec3",
   "metadata": {},
   "outputs": [
    {
     "name": "stderr",
     "output_type": "stream",
     "text": [
      "C:\\Users\\AICOE\\AppData\\Local\\Temp\\ipykernel_4216\\2523492424.py:25: UserWarning: pandas only supports SQLAlchemy connectable (engine/connection) or database string URI or sqlite3 DBAPI2 connection. Other DBAPI2 objects are not tested. Please consider using SQLAlchemy.\n",
      "  df = pd.read_sql_query(query, conn)\n"
     ]
    }
   ],
   "source": [
    "citizen_master = get_data('ml_citizen_master')"
   ]
  },
  {
   "cell_type": "code",
   "execution_count": 5,
   "id": "5e908222",
   "metadata": {},
   "outputs": [
    {
     "name": "stderr",
     "output_type": "stream",
     "text": [
      "C:\\Users\\AICOE\\AppData\\Local\\Temp\\ipykernel_4216\\2523492424.py:25: UserWarning: pandas only supports SQLAlchemy connectable (engine/connection) or database string URI or sqlite3 DBAPI2 connection. Other DBAPI2 objects are not tested. Please consider using SQLAlchemy.\n",
      "  df = pd.read_sql_query(query, conn)\n"
     ]
    }
   ],
   "source": [
    "deo_master = get_data('ml_deo_master')"
   ]
  },
  {
   "cell_type": "code",
   "execution_count": 6,
   "id": "bef82d8d",
   "metadata": {},
   "outputs": [
    {
     "name": "stderr",
     "output_type": "stream",
     "text": [
      "C:\\Users\\AICOE\\AppData\\Local\\Temp\\ipykernel_4216\\2523492424.py:25: UserWarning: pandas only supports SQLAlchemy connectable (engine/connection) or database string URI or sqlite3 DBAPI2 connection. Other DBAPI2 objects are not tested. Please consider using SQLAlchemy.\n",
      "  df = pd.read_sql_query(query, conn)\n"
     ]
    }
   ],
   "source": [
    "district = get_data('ml_district')"
   ]
  },
  {
   "cell_type": "code",
   "execution_count": 7,
   "id": "043dd188",
   "metadata": {},
   "outputs": [
    {
     "name": "stderr",
     "output_type": "stream",
     "text": [
      "C:\\Users\\AICOE\\AppData\\Local\\Temp\\ipykernel_4216\\2523492424.py:25: UserWarning: pandas only supports SQLAlchemy connectable (engine/connection) or database string URI or sqlite3 DBAPI2 connection. Other DBAPI2 objects are not tested. Please consider using SQLAlchemy.\n",
      "  df = pd.read_sql_query(query, conn)\n"
     ]
    }
   ],
   "source": [
    "gp_ward_master = get_data('ml_gp_ward_master')"
   ]
  },
  {
   "cell_type": "code",
   "execution_count": 8,
   "id": "a29269c9",
   "metadata": {},
   "outputs": [
    {
     "name": "stderr",
     "output_type": "stream",
     "text": [
      "C:\\Users\\AICOE\\AppData\\Local\\Temp\\ipykernel_4216\\2523492424.py:25: UserWarning: pandas only supports SQLAlchemy connectable (engine/connection) or database string URI or sqlite3 DBAPI2 connection. Other DBAPI2 objects are not tested. Please consider using SQLAlchemy.\n",
      "  df = pd.read_sql_query(query, conn)\n"
     ]
    }
   ],
   "source": [
    "post_office_master = get_data('ml_post_office_master')"
   ]
  },
  {
   "cell_type": "code",
   "execution_count": 9,
   "id": "48487849",
   "metadata": {},
   "outputs": [
    {
     "name": "stderr",
     "output_type": "stream",
     "text": [
      "C:\\Users\\AICOE\\AppData\\Local\\Temp\\ipykernel_4216\\2523492424.py:25: UserWarning: pandas only supports SQLAlchemy connectable (engine/connection) or database string URI or sqlite3 DBAPI2 connection. Other DBAPI2 objects are not tested. Please consider using SQLAlchemy.\n",
      "  df = pd.read_sql_query(query, conn)\n"
     ]
    }
   ],
   "source": [
    "provision = get_data('ml_provision')"
   ]
  },
  {
   "cell_type": "code",
   "execution_count": 10,
   "id": "af4223a8",
   "metadata": {},
   "outputs": [
    {
     "name": "stderr",
     "output_type": "stream",
     "text": [
      "C:\\Users\\AICOE\\AppData\\Local\\Temp\\ipykernel_4216\\2523492424.py:25: UserWarning: pandas only supports SQLAlchemy connectable (engine/connection) or database string URI or sqlite3 DBAPI2 connection. Other DBAPI2 objects are not tested. Please consider using SQLAlchemy.\n",
      "  df = pd.read_sql_query(query, conn)\n"
     ]
    }
   ],
   "source": [
    "service_master = get_data('ml_service_master')"
   ]
  },
  {
   "cell_type": "code",
   "execution_count": 11,
   "id": "4240e0b4",
   "metadata": {},
   "outputs": [
    {
     "name": "stderr",
     "output_type": "stream",
     "text": [
      "C:\\Users\\AICOE\\AppData\\Local\\Temp\\ipykernel_4216\\2523492424.py:25: UserWarning: pandas only supports SQLAlchemy connectable (engine/connection) or database string URI or sqlite3 DBAPI2 connection. Other DBAPI2 objects are not tested. Please consider using SQLAlchemy.\n",
      "  df = pd.read_sql_query(query, conn)\n"
     ]
    }
   ],
   "source": [
    "sub_division = get_data('ml_sub_division')"
   ]
  },
  {
   "cell_type": "code",
   "execution_count": 12,
   "id": "735ccd1c",
   "metadata": {},
   "outputs": [
    {
     "data": {
      "text/html": [
       "<div>\n",
       "<style scoped>\n",
       "    .dataframe tbody tr th:only-of-type {\n",
       "        vertical-align: middle;\n",
       "    }\n",
       "\n",
       "    .dataframe tbody tr th {\n",
       "        vertical-align: top;\n",
       "    }\n",
       "\n",
       "    .dataframe thead th {\n",
       "        text-align: right;\n",
       "    }\n",
       "</style>\n",
       "<table border=\"1\" class=\"dataframe\">\n",
       "  <thead>\n",
       "    <tr style=\"text-align: right;\">\n",
       "      <th></th>\n",
       "      <th>district_id</th>\n",
       "      <th>district_name</th>\n",
       "      <th>district_code</th>\n",
       "      <th>grp</th>\n",
       "    </tr>\n",
       "  </thead>\n",
       "  <tbody>\n",
       "    <tr>\n",
       "      <th>0</th>\n",
       "      <td>8</td>\n",
       "      <td>DARJEELING</td>\n",
       "      <td>309</td>\n",
       "      <td>GRPA</td>\n",
       "    </tr>\n",
       "    <tr>\n",
       "      <th>1</th>\n",
       "      <td>15</td>\n",
       "      <td>PURBA MEDINIPUR</td>\n",
       "      <td>317</td>\n",
       "      <td>GRPA</td>\n",
       "    </tr>\n",
       "    <tr>\n",
       "      <th>2</th>\n",
       "      <td>21</td>\n",
       "      <td>KALIMPONG</td>\n",
       "      <td>702</td>\n",
       "      <td>GRPA</td>\n",
       "    </tr>\n",
       "    <tr>\n",
       "      <th>3</th>\n",
       "      <td>22</td>\n",
       "      <td>JHARGRAM</td>\n",
       "      <td>703</td>\n",
       "      <td>GRPA</td>\n",
       "    </tr>\n",
       "    <tr>\n",
       "      <th>4</th>\n",
       "      <td>5</td>\n",
       "      <td>PURBA BARDHAMAN</td>\n",
       "      <td>306</td>\n",
       "      <td>GRPB</td>\n",
       "    </tr>\n",
       "  </tbody>\n",
       "</table>\n",
       "</div>"
      ],
      "text/plain": [
       "   district_id    district_name district_code   grp\n",
       "0            8       DARJEELING           309  GRPA\n",
       "1           15  PURBA MEDINIPUR           317  GRPA\n",
       "2           21        KALIMPONG           702  GRPA\n",
       "3           22         JHARGRAM           703  GRPA\n",
       "4            5  PURBA BARDHAMAN           306  GRPB"
      ]
     },
     "execution_count": 12,
     "metadata": {},
     "output_type": "execute_result"
    }
   ],
   "source": [
    "district.head()"
   ]
  },
  {
   "cell_type": "code",
   "execution_count": 13,
   "id": "dcb01377",
   "metadata": {},
   "outputs": [
    {
     "name": "stdout",
     "output_type": "stream",
     "text": [
      "<class 'pandas.core.frame.DataFrame'>\n",
      "RangeIndex: 23 entries, 0 to 22\n",
      "Data columns (total 4 columns):\n",
      " #   Column         Non-Null Count  Dtype \n",
      "---  ------         --------------  ----- \n",
      " 0   district_id    23 non-null     int64 \n",
      " 1   district_name  23 non-null     object\n",
      " 2   district_code  23 non-null     object\n",
      " 3   grp            23 non-null     object\n",
      "dtypes: int64(1), object(3)\n",
      "memory usage: 864.0+ bytes\n"
     ]
    }
   ],
   "source": [
    "district.info()"
   ]
  },
  {
   "cell_type": "code",
   "execution_count": 14,
   "id": "e0c3a3e3",
   "metadata": {},
   "outputs": [
    {
     "data": {
      "text/html": [
       "<div>\n",
       "<style scoped>\n",
       "    .dataframe tbody tr th:only-of-type {\n",
       "        vertical-align: middle;\n",
       "    }\n",
       "\n",
       "    .dataframe tbody tr th {\n",
       "        vertical-align: top;\n",
       "    }\n",
       "\n",
       "    .dataframe thead th {\n",
       "        text-align: right;\n",
       "    }\n",
       "</style>\n",
       "<table border=\"1\" class=\"dataframe\">\n",
       "  <thead>\n",
       "    <tr style=\"text-align: right;\">\n",
       "      <th></th>\n",
       "      <th>bsk_id</th>\n",
       "      <th>bsk_name</th>\n",
       "      <th>customer_id</th>\n",
       "      <th>customer_name</th>\n",
       "      <th>customer_phone</th>\n",
       "      <th>service_id</th>\n",
       "      <th>service_name</th>\n",
       "      <th>prov_date</th>\n",
       "      <th>docket_no</th>\n",
       "    </tr>\n",
       "  </thead>\n",
       "  <tbody>\n",
       "    <tr>\n",
       "      <th>0</th>\n",
       "      <td>222</td>\n",
       "      <td>HARISCHANDRAPUR - I BDO</td>\n",
       "      <td>GRPD_7087933</td>\n",
       "      <td>Sayema khatun</td>\n",
       "      <td>9609645980</td>\n",
       "      <td>352</td>\n",
       "      <td>Apply - eKYC Seeding of Aadhaar with Digital R...</td>\n",
       "      <td>31/03/2025 20:39:54</td>\n",
       "      <td>20250331203954856</td>\n",
       "    </tr>\n",
       "    <tr>\n",
       "      <th>1</th>\n",
       "      <td>882</td>\n",
       "      <td>GAZNA GP</td>\n",
       "      <td>GRPF_9903885</td>\n",
       "      <td>PRADIP MONDAL</td>\n",
       "      <td>9932181232</td>\n",
       "      <td>357</td>\n",
       "      <td>Payment History - WBSEDCL</td>\n",
       "      <td>31/03/2025 12:00:34</td>\n",
       "      <td>20250331120034784</td>\n",
       "    </tr>\n",
       "    <tr>\n",
       "      <th>2</th>\n",
       "      <td>1036</td>\n",
       "      <td>RAMNAGAR GP</td>\n",
       "      <td>GRPB_9333501</td>\n",
       "      <td>HEMONTA GHOSH</td>\n",
       "      <td>9475801203</td>\n",
       "      <td>392</td>\n",
       "      <td>Modify - Add member / FPS of Ration Card Holder</td>\n",
       "      <td>31/01/2025 23:42:52</td>\n",
       "      <td>20250131234252181</td>\n",
       "    </tr>\n",
       "    <tr>\n",
       "      <th>3</th>\n",
       "      <td>1036</td>\n",
       "      <td>RAMNAGAR GP</td>\n",
       "      <td>GRPB_9630402</td>\n",
       "      <td>SURJA NARAYAN MITRA</td>\n",
       "      <td>8293588703</td>\n",
       "      <td>392</td>\n",
       "      <td>Modify - Add member / FPS of Ration Card Holder</td>\n",
       "      <td>31/01/2025 23:42:23</td>\n",
       "      <td>20250131234223670</td>\n",
       "    </tr>\n",
       "    <tr>\n",
       "      <th>4</th>\n",
       "      <td>1036</td>\n",
       "      <td>RAMNAGAR GP</td>\n",
       "      <td>GRPB_8842011</td>\n",
       "      <td>SUMAN BAGDI</td>\n",
       "      <td>9001345678</td>\n",
       "      <td>392</td>\n",
       "      <td>Modify - Add member / FPS of Ration Card Holder</td>\n",
       "      <td>31/01/2025 23:42:03</td>\n",
       "      <td>20250131234203103</td>\n",
       "    </tr>\n",
       "  </tbody>\n",
       "</table>\n",
       "</div>"
      ],
      "text/plain": [
       "   bsk_id                 bsk_name   customer_id        customer_name  \\\n",
       "0     222  HARISCHANDRAPUR - I BDO  GRPD_7087933        Sayema khatun   \n",
       "1     882                 GAZNA GP  GRPF_9903885        PRADIP MONDAL   \n",
       "2    1036              RAMNAGAR GP  GRPB_9333501        HEMONTA GHOSH   \n",
       "3    1036              RAMNAGAR GP  GRPB_9630402  SURJA NARAYAN MITRA   \n",
       "4    1036              RAMNAGAR GP  GRPB_8842011          SUMAN BAGDI   \n",
       "\n",
       "  customer_phone  service_id  \\\n",
       "0     9609645980         352   \n",
       "1     9932181232         357   \n",
       "2     9475801203         392   \n",
       "3     8293588703         392   \n",
       "4     9001345678         392   \n",
       "\n",
       "                                        service_name            prov_date  \\\n",
       "0  Apply - eKYC Seeding of Aadhaar with Digital R...  31/03/2025 20:39:54   \n",
       "1                          Payment History - WBSEDCL  31/03/2025 12:00:34   \n",
       "2    Modify - Add member / FPS of Ration Card Holder  31/01/2025 23:42:52   \n",
       "3    Modify - Add member / FPS of Ration Card Holder  31/01/2025 23:42:23   \n",
       "4    Modify - Add member / FPS of Ration Card Holder  31/01/2025 23:42:03   \n",
       "\n",
       "           docket_no  \n",
       "0  20250331203954856  \n",
       "1  20250331120034784  \n",
       "2  20250131234252181  \n",
       "3  20250131234223670  \n",
       "4  20250131234203103  "
      ]
     },
     "execution_count": 14,
     "metadata": {},
     "output_type": "execute_result"
    }
   ],
   "source": [
    "provision.head()"
   ]
  },
  {
   "cell_type": "code",
   "execution_count": 15,
   "id": "38c4132a",
   "metadata": {},
   "outputs": [
    {
     "name": "stdout",
     "output_type": "stream",
     "text": [
      "<class 'pandas.core.frame.DataFrame'>\n",
      "RangeIndex: 5140830 entries, 0 to 5140829\n",
      "Data columns (total 9 columns):\n",
      " #   Column          Dtype \n",
      "---  ------          ----- \n",
      " 0   bsk_id          int64 \n",
      " 1   bsk_name        object\n",
      " 2   customer_id     object\n",
      " 3   customer_name   object\n",
      " 4   customer_phone  object\n",
      " 5   service_id      int64 \n",
      " 6   service_name    object\n",
      " 7   prov_date       object\n",
      " 8   docket_no       object\n",
      "dtypes: int64(2), object(7)\n",
      "memory usage: 353.0+ MB\n"
     ]
    }
   ],
   "source": [
    "provision.info()"
   ]
  },
  {
   "cell_type": "code",
   "execution_count": 16,
   "id": "ea6aea03",
   "metadata": {},
   "outputs": [
    {
     "name": "stdout",
     "output_type": "stream",
     "text": [
      "Missing values in provision_df:\n",
      "bsk_id            0\n",
      "bsk_name          0\n",
      "customer_id       0\n",
      "customer_name     0\n",
      "customer_phone    0\n",
      "service_id        0\n",
      "service_name      0\n",
      "prov_date         0\n",
      "docket_no         0\n",
      "dtype: int64\n",
      "\n",
      "Missing values in citizen_df:\n",
      "citizen_id         0\n",
      "citizen_phone      0\n",
      "citizen_name       0\n",
      "alt_phone          0\n",
      "email              0\n",
      "guardian_name    218\n",
      "district_id      457\n",
      "sub_div_id       457\n",
      "gp_id            457\n",
      "gender           457\n",
      "dob              457\n",
      "age              457\n",
      "caste            457\n",
      "religion         455\n",
      "dtype: int64\n",
      "\n",
      "Missing values in service_df:\n",
      "service_id               0\n",
      "service_name             0\n",
      "common_name             24\n",
      "action_name             24\n",
      "service_link             1\n",
      "department_id           54\n",
      "department_name          0\n",
      "is_new                   0\n",
      "service_type             0\n",
      "is_active                0\n",
      "is_paid_service          0\n",
      "service_desc            11\n",
      "how_to_apply            11\n",
      "eligibility_criteria    11\n",
      "required_doc            11\n",
      "dtype: int64\n"
     ]
    }
   ],
   "source": [
    "print(\"Missing values in provision_df:\")\n",
    "print(provision.isnull().sum())\n",
    "print(\"\\nMissing values in citizen_df:\")\n",
    "print(citizen_master.isnull().sum())\n",
    "print(\"\\nMissing values in service_df:\")\n",
    "print(service_master.isnull().sum())"
   ]
  },
  {
   "cell_type": "code",
   "execution_count": 17,
   "id": "9d7a1702",
   "metadata": {},
   "outputs": [
    {
     "data": {
      "text/html": [
       "<div>\n",
       "<style scoped>\n",
       "    .dataframe tbody tr th:only-of-type {\n",
       "        vertical-align: middle;\n",
       "    }\n",
       "\n",
       "    .dataframe tbody tr th {\n",
       "        vertical-align: top;\n",
       "    }\n",
       "\n",
       "    .dataframe thead th {\n",
       "        text-align: right;\n",
       "    }\n",
       "</style>\n",
       "<table border=\"1\" class=\"dataframe\">\n",
       "  <thead>\n",
       "    <tr style=\"text-align: right;\">\n",
       "      <th></th>\n",
       "      <th>service_id</th>\n",
       "      <th>service_name</th>\n",
       "      <th>common_name</th>\n",
       "      <th>action_name</th>\n",
       "      <th>service_link</th>\n",
       "      <th>department_id</th>\n",
       "      <th>department_name</th>\n",
       "      <th>is_new</th>\n",
       "      <th>service_type</th>\n",
       "      <th>is_active</th>\n",
       "      <th>is_paid_service</th>\n",
       "      <th>service_desc</th>\n",
       "      <th>how_to_apply</th>\n",
       "      <th>eligibility_criteria</th>\n",
       "      <th>required_doc</th>\n",
       "    </tr>\n",
       "  </thead>\n",
       "  <tbody>\n",
       "    <tr>\n",
       "      <th>0</th>\n",
       "      <td>1</td>\n",
       "      <td>Search - Application Status of Kanyasree Prakalpa</td>\n",
       "      <td>Kanyashree Prakalpa</td>\n",
       "      <td>Search - Application Status of Kanyasree Prakalpa</td>\n",
       "      <td>https://wbkanyashree.gov.in/kp_track_status.php</td>\n",
       "      <td>39.0</td>\n",
       "      <td>Women &amp; Child Development and Social Welfare D...</td>\n",
       "      <td>0</td>\n",
       "      <td>F</td>\n",
       "      <td>1</td>\n",
       "      <td>False</td>\n",
       "      <td>It is a conditional cash transfer scheme with ...</td>\n",
       "      <td>Collect the application form from the institut...</td>\n",
       "      <td>All girl residents of West Bengal enrolled and...</td>\n",
       "      <td>Birth certificate, a statement declaring that...</td>\n",
       "    </tr>\n",
       "    <tr>\n",
       "      <th>1</th>\n",
       "      <td>2</td>\n",
       "      <td>Application for Aikyasree Scholarship</td>\n",
       "      <td>Scholarship</td>\n",
       "      <td>Apply - Aikyasree Scholarship Application</td>\n",
       "      <td>https://serv2.wbmdfcscholarship.org/user/insti...</td>\n",
       "      <td>24.0</td>\n",
       "      <td>Minority Affairs &amp; Madrasah Education Department</td>\n",
       "      <td>0</td>\n",
       "      <td>F</td>\n",
       "      <td>1</td>\n",
       "      <td>False</td>\n",
       "      <td>Aikyashree is a scholarship programme under WB...</td>\n",
       "      <td>Visit the WBMDFC Aikyashree Scholarship websit...</td>\n",
       "      <td>Applicant must be a domicile of West Bengal. M...</td>\n",
       "      <td>Community Certificate (Attested by self if ove...</td>\n",
       "    </tr>\n",
       "    <tr>\n",
       "      <th>2</th>\n",
       "      <td>4</td>\n",
       "      <td>Application for Income Certificates</td>\n",
       "      <td>eDistrict</td>\n",
       "      <td>Apply - Income Certificates</td>\n",
       "      <td>/edist/income-cert</td>\n",
       "      <td>26.0</td>\n",
       "      <td>Home &amp; Hill Affairs Department</td>\n",
       "      <td>0</td>\n",
       "      <td>F</td>\n",
       "      <td>1</td>\n",
       "      <td>False</td>\n",
       "      <td>Income certificate is an essential legal docum...</td>\n",
       "      <td>Online, via edistrict.wb.gov.in</td>\n",
       "      <td>Any individual who is employed and a resident ...</td>\n",
       "      <td>1.Residential Proof: Residential Certificate i...</td>\n",
       "    </tr>\n",
       "    <tr>\n",
       "      <th>3</th>\n",
       "      <td>6</td>\n",
       "      <td>Caste Certificate</td>\n",
       "      <td>Backward Class Services</td>\n",
       "      <td>Apply - Caste Certificate</td>\n",
       "      <td>https://castcertificatewb.gov.in/application</td>\n",
       "      <td>4.0</td>\n",
       "      <td>Backward Classes Welfare Department</td>\n",
       "      <td>0</td>\n",
       "      <td>F</td>\n",
       "      <td>1</td>\n",
       "      <td>False</td>\n",
       "      <td>The BCW Department issues the caste certificat...</td>\n",
       "      <td></td>\n",
       "      <td>The criteria for application are updated by th...</td>\n",
       "      <td>Some standard documents like photo identity, ...</td>\n",
       "    </tr>\n",
       "    <tr>\n",
       "      <th>4</th>\n",
       "      <td>10</td>\n",
       "      <td>Apply - Online Application for WBPRB</td>\n",
       "      <td>Recruitment</td>\n",
       "      <td>Apply - Online Application for WBPRB</td>\n",
       "      <td>http://wbpolice.gov.in/wbp/common/WBP_Recruitm...</td>\n",
       "      <td>15.0</td>\n",
       "      <td>Home &amp; Hill Affairs Department</td>\n",
       "      <td>0</td>\n",
       "      <td>P</td>\n",
       "      <td>1</td>\n",
       "      <td>True</td>\n",
       "      <td>To provide a platform where citizens of West B...</td>\n",
       "      <td>Online via wbprb.applythrunet.co.in</td>\n",
       "      <td>Any individual above 18 years of age who is a ...</td>\n",
       "      <td>a. Age proof b. Marksheets c. Address proof d....</td>\n",
       "    </tr>\n",
       "  </tbody>\n",
       "</table>\n",
       "</div>"
      ],
      "text/plain": [
       "   service_id                                       service_name  \\\n",
       "0           1  Search - Application Status of Kanyasree Prakalpa   \n",
       "1           2              Application for Aikyasree Scholarship   \n",
       "2           4                Application for Income Certificates   \n",
       "3           6                                  Caste Certificate   \n",
       "4          10               Apply - Online Application for WBPRB   \n",
       "\n",
       "               common_name                                        action_name  \\\n",
       "0      Kanyashree Prakalpa  Search - Application Status of Kanyasree Prakalpa   \n",
       "1              Scholarship          Apply - Aikyasree Scholarship Application   \n",
       "2                eDistrict                        Apply - Income Certificates   \n",
       "3  Backward Class Services                          Apply - Caste Certificate   \n",
       "4             Recruitment                Apply - Online Application for WBPRB   \n",
       "\n",
       "                                        service_link  department_id  \\\n",
       "0    https://wbkanyashree.gov.in/kp_track_status.php           39.0   \n",
       "1  https://serv2.wbmdfcscholarship.org/user/insti...           24.0   \n",
       "2                                 /edist/income-cert           26.0   \n",
       "3       https://castcertificatewb.gov.in/application            4.0   \n",
       "4  http://wbpolice.gov.in/wbp/common/WBP_Recruitm...           15.0   \n",
       "\n",
       "                                     department_name  is_new service_type  \\\n",
       "0  Women & Child Development and Social Welfare D...       0            F   \n",
       "1   Minority Affairs & Madrasah Education Department       0            F   \n",
       "2                     Home & Hill Affairs Department       0            F   \n",
       "3                Backward Classes Welfare Department       0            F   \n",
       "4                     Home & Hill Affairs Department       0            P   \n",
       "\n",
       "   is_active  is_paid_service  \\\n",
       "0          1            False   \n",
       "1          1            False   \n",
       "2          1            False   \n",
       "3          1            False   \n",
       "4          1             True   \n",
       "\n",
       "                                        service_desc  \\\n",
       "0  It is a conditional cash transfer scheme with ...   \n",
       "1  Aikyashree is a scholarship programme under WB...   \n",
       "2  Income certificate is an essential legal docum...   \n",
       "3  The BCW Department issues the caste certificat...   \n",
       "4  To provide a platform where citizens of West B...   \n",
       "\n",
       "                                        how_to_apply  \\\n",
       "0  Collect the application form from the institut...   \n",
       "1  Visit the WBMDFC Aikyashree Scholarship websit...   \n",
       "2                    Online, via edistrict.wb.gov.in   \n",
       "3                                                      \n",
       "4                Online via wbprb.applythrunet.co.in   \n",
       "\n",
       "                                eligibility_criteria  \\\n",
       "0  All girl residents of West Bengal enrolled and...   \n",
       "1  Applicant must be a domicile of West Bengal. M...   \n",
       "2  Any individual who is employed and a resident ...   \n",
       "3  The criteria for application are updated by th...   \n",
       "4  Any individual above 18 years of age who is a ...   \n",
       "\n",
       "                                        required_doc  \n",
       "0   Birth certificate, a statement declaring that...  \n",
       "1  Community Certificate (Attested by self if ove...  \n",
       "2  1.Residential Proof: Residential Certificate i...  \n",
       "3   Some standard documents like photo identity, ...  \n",
       "4  a. Age proof b. Marksheets c. Address proof d....  "
      ]
     },
     "execution_count": 17,
     "metadata": {},
     "output_type": "execute_result"
    }
   ],
   "source": [
    "service_master.head()"
   ]
  },
  {
   "cell_type": "code",
   "execution_count": 18,
   "id": "4d947c31",
   "metadata": {},
   "outputs": [
    {
     "data": {
      "text/plain": [
       "(422, 15)"
      ]
     },
     "execution_count": 18,
     "metadata": {},
     "output_type": "execute_result"
    }
   ],
   "source": [
    "service_master.shape"
   ]
  },
  {
   "cell_type": "code",
   "execution_count": 32,
   "id": "def2927a",
   "metadata": {},
   "outputs": [
    {
     "data": {
      "text/html": [
       "<div>\n",
       "<style scoped>\n",
       "    .dataframe tbody tr th:only-of-type {\n",
       "        vertical-align: middle;\n",
       "    }\n",
       "\n",
       "    .dataframe tbody tr th {\n",
       "        vertical-align: top;\n",
       "    }\n",
       "\n",
       "    .dataframe thead th {\n",
       "        text-align: right;\n",
       "    }\n",
       "</style>\n",
       "<table border=\"1\" class=\"dataframe\">\n",
       "  <thead>\n",
       "    <tr style=\"text-align: right;\">\n",
       "      <th></th>\n",
       "      <th>service_id</th>\n",
       "      <th>service_name</th>\n",
       "      <th>common_name</th>\n",
       "      <th>action_name</th>\n",
       "      <th>service_link</th>\n",
       "      <th>department_id</th>\n",
       "      <th>department_name</th>\n",
       "      <th>is_new</th>\n",
       "      <th>service_type</th>\n",
       "      <th>is_active</th>\n",
       "      <th>is_paid_service</th>\n",
       "      <th>service_desc</th>\n",
       "      <th>how_to_apply</th>\n",
       "      <th>eligibility_criteria</th>\n",
       "      <th>required_doc</th>\n",
       "    </tr>\n",
       "  </thead>\n",
       "  <tbody>\n",
       "    <tr>\n",
       "      <th>0</th>\n",
       "      <td>1</td>\n",
       "      <td>Search - Application Status of Kanyasree Prakalpa</td>\n",
       "      <td>Kanyashree Prakalpa</td>\n",
       "      <td>Search - Application Status of Kanyasree Prakalpa</td>\n",
       "      <td>https://wbkanyashree.gov.in/kp_track_status.php</td>\n",
       "      <td>39.0</td>\n",
       "      <td>Women &amp; Child Development and Social Welfare D...</td>\n",
       "      <td>0</td>\n",
       "      <td>F</td>\n",
       "      <td>1</td>\n",
       "      <td>False</td>\n",
       "      <td>It is a conditional cash transfer scheme with ...</td>\n",
       "      <td>Collect the application form from the institut...</td>\n",
       "      <td>All girl residents of West Bengal enrolled and...</td>\n",
       "      <td>Birth certificate, a statement declaring that...</td>\n",
       "    </tr>\n",
       "    <tr>\n",
       "      <th>1</th>\n",
       "      <td>2</td>\n",
       "      <td>Application for Aikyasree Scholarship</td>\n",
       "      <td>Scholarship</td>\n",
       "      <td>Apply - Aikyasree Scholarship Application</td>\n",
       "      <td>https://serv2.wbmdfcscholarship.org/user/insti...</td>\n",
       "      <td>24.0</td>\n",
       "      <td>Minority Affairs &amp; Madrasah Education Department</td>\n",
       "      <td>0</td>\n",
       "      <td>F</td>\n",
       "      <td>1</td>\n",
       "      <td>False</td>\n",
       "      <td>Aikyashree is a scholarship programme under WB...</td>\n",
       "      <td>Visit the WBMDFC Aikyashree Scholarship websit...</td>\n",
       "      <td>Applicant must be a domicile of West Bengal. M...</td>\n",
       "      <td>Community Certificate (Attested by self if ove...</td>\n",
       "    </tr>\n",
       "    <tr>\n",
       "      <th>2</th>\n",
       "      <td>4</td>\n",
       "      <td>Application for Income Certificates</td>\n",
       "      <td>eDistrict</td>\n",
       "      <td>Apply - Income Certificates</td>\n",
       "      <td>/edist/income-cert</td>\n",
       "      <td>26.0</td>\n",
       "      <td>Home &amp; Hill Affairs Department</td>\n",
       "      <td>0</td>\n",
       "      <td>F</td>\n",
       "      <td>1</td>\n",
       "      <td>False</td>\n",
       "      <td>Income certificate is an essential legal docum...</td>\n",
       "      <td>Online, via edistrict.wb.gov.in</td>\n",
       "      <td>Any individual who is employed and a resident ...</td>\n",
       "      <td>1.Residential Proof: Residential Certificate i...</td>\n",
       "    </tr>\n",
       "    <tr>\n",
       "      <th>3</th>\n",
       "      <td>6</td>\n",
       "      <td>Caste Certificate</td>\n",
       "      <td>Backward Class Services</td>\n",
       "      <td>Apply - Caste Certificate</td>\n",
       "      <td>https://castcertificatewb.gov.in/application</td>\n",
       "      <td>4.0</td>\n",
       "      <td>Backward Classes Welfare Department</td>\n",
       "      <td>0</td>\n",
       "      <td>F</td>\n",
       "      <td>1</td>\n",
       "      <td>False</td>\n",
       "      <td>The BCW Department issues the caste certificat...</td>\n",
       "      <td></td>\n",
       "      <td>The criteria for application are updated by th...</td>\n",
       "      <td>Some standard documents like photo identity, ...</td>\n",
       "    </tr>\n",
       "    <tr>\n",
       "      <th>4</th>\n",
       "      <td>10</td>\n",
       "      <td>Apply - Online Application for WBPRB</td>\n",
       "      <td>Recruitment</td>\n",
       "      <td>Apply - Online Application for WBPRB</td>\n",
       "      <td>http://wbpolice.gov.in/wbp/common/WBP_Recruitm...</td>\n",
       "      <td>15.0</td>\n",
       "      <td>Home &amp; Hill Affairs Department</td>\n",
       "      <td>0</td>\n",
       "      <td>P</td>\n",
       "      <td>1</td>\n",
       "      <td>True</td>\n",
       "      <td>To provide a platform where citizens of West B...</td>\n",
       "      <td>Online via wbprb.applythrunet.co.in</td>\n",
       "      <td>Any individual above 18 years of age who is a ...</td>\n",
       "      <td>a. Age proof b. Marksheets c. Address proof d....</td>\n",
       "    </tr>\n",
       "    <tr>\n",
       "      <th>...</th>\n",
       "      <td>...</td>\n",
       "      <td>...</td>\n",
       "      <td>...</td>\n",
       "      <td>...</td>\n",
       "      <td>...</td>\n",
       "      <td>...</td>\n",
       "      <td>...</td>\n",
       "      <td>...</td>\n",
       "      <td>...</td>\n",
       "      <td>...</td>\n",
       "      <td>...</td>\n",
       "      <td>...</td>\n",
       "      <td>...</td>\n",
       "      <td>...</td>\n",
       "      <td>...</td>\n",
       "    </tr>\n",
       "    <tr>\n",
       "      <th>417</th>\n",
       "      <td>506</td>\n",
       "      <td>Apply - New Trade License</td>\n",
       "      <td>Howrah Municipal Corporation (HMC)</td>\n",
       "      <td>Apply - New Trade License</td>\n",
       "      <td>https://tl.myhmc.in/home.php?task=newlisense</td>\n",
       "      <td>NaN</td>\n",
       "      <td>Urban Development and Municipal Affairs Depart...</td>\n",
       "      <td>0</td>\n",
       "      <td>F</td>\n",
       "      <td>1</td>\n",
       "      <td>False</td>\n",
       "      <td>Apply - New Trade License</td>\n",
       "      <td>Apply - New Trade License</td>\n",
       "      <td>Apply - New Trade License</td>\n",
       "      <td>Apply - New Trade License</td>\n",
       "    </tr>\n",
       "    <tr>\n",
       "      <th>418</th>\n",
       "      <td>507</td>\n",
       "      <td>Apply - Renewal of Trade License</td>\n",
       "      <td>Howrah Municipal Corporation (HMC)</td>\n",
       "      <td>Apply - Renewal of Trade License</td>\n",
       "      <td>https://tl.myhmc.in/home.php?task=renewal</td>\n",
       "      <td>NaN</td>\n",
       "      <td>Urban Development and Municipal Affairs Depart...</td>\n",
       "      <td>0</td>\n",
       "      <td>P</td>\n",
       "      <td>1</td>\n",
       "      <td>True</td>\n",
       "      <td>Apply - Renewal of Trade License</td>\n",
       "      <td>Apply - Renewal of Trade License</td>\n",
       "      <td>Apply - Renewal of Trade License</td>\n",
       "      <td>Apply - Renewal of Trade License</td>\n",
       "    </tr>\n",
       "    <tr>\n",
       "      <th>419</th>\n",
       "      <td>508</td>\n",
       "      <td>Search - View &amp; Pay Demand</td>\n",
       "      <td>Howrah Municipal Corporation (HMC)</td>\n",
       "      <td>Search - View &amp; Pay Demand</td>\n",
       "      <td>https://tl.myhmc.in/home.php?task=viewdemand</td>\n",
       "      <td>NaN</td>\n",
       "      <td>Urban Development and Municipal Affairs Depart...</td>\n",
       "      <td>0</td>\n",
       "      <td>F</td>\n",
       "      <td>1</td>\n",
       "      <td>False</td>\n",
       "      <td>Search - View &amp; Pay Demand</td>\n",
       "      <td>Search - View &amp; Pay Demand</td>\n",
       "      <td>Search - View &amp; Pay Demand</td>\n",
       "      <td>Search - View &amp; Pay Demand</td>\n",
       "    </tr>\n",
       "    <tr>\n",
       "      <th>420</th>\n",
       "      <td>509</td>\n",
       "      <td>Search - Check License</td>\n",
       "      <td>Howrah Municipal Corporation (HMC)</td>\n",
       "      <td>Search - Check License</td>\n",
       "      <td>https://tl.myhmc.in/home.php?task=viewlicense</td>\n",
       "      <td>NaN</td>\n",
       "      <td>Urban Development and Municipal Affairs Depart...</td>\n",
       "      <td>0</td>\n",
       "      <td>F</td>\n",
       "      <td>1</td>\n",
       "      <td>False</td>\n",
       "      <td>Search - Check License</td>\n",
       "      <td>Search - Check License</td>\n",
       "      <td>Search - Check License</td>\n",
       "      <td>Search - Check License</td>\n",
       "    </tr>\n",
       "    <tr>\n",
       "      <th>421</th>\n",
       "      <td>510</td>\n",
       "      <td>Print - Online License Reprint</td>\n",
       "      <td>Howrah Municipal Corporation (HMC)</td>\n",
       "      <td>Print - Online License Reprint</td>\n",
       "      <td>https://tl.myhmc.in/home.php?task=onlineliscprint</td>\n",
       "      <td>NaN</td>\n",
       "      <td>Urban Development and Municipal Affairs Depart...</td>\n",
       "      <td>0</td>\n",
       "      <td>F</td>\n",
       "      <td>1</td>\n",
       "      <td>False</td>\n",
       "      <td>Print - Online License Reprint</td>\n",
       "      <td>Print - Online License Reprint</td>\n",
       "      <td>Print - Online License Reprint</td>\n",
       "      <td>Print - Online License Reprint</td>\n",
       "    </tr>\n",
       "  </tbody>\n",
       "</table>\n",
       "<p>316 rows × 15 columns</p>\n",
       "</div>"
      ],
      "text/plain": [
       "     service_id                                       service_name  \\\n",
       "0             1  Search - Application Status of Kanyasree Prakalpa   \n",
       "1             2              Application for Aikyasree Scholarship   \n",
       "2             4                Application for Income Certificates   \n",
       "3             6                                  Caste Certificate   \n",
       "4            10               Apply - Online Application for WBPRB   \n",
       "..          ...                                                ...   \n",
       "417         506                         Apply - New Trade License    \n",
       "418         507                   Apply - Renewal of Trade License   \n",
       "419         508                         Search - View & Pay Demand   \n",
       "420         509                             Search - Check License   \n",
       "421         510                     Print - Online License Reprint   \n",
       "\n",
       "                            common_name  \\\n",
       "0                   Kanyashree Prakalpa   \n",
       "1                           Scholarship   \n",
       "2                             eDistrict   \n",
       "3               Backward Class Services   \n",
       "4                          Recruitment    \n",
       "..                                  ...   \n",
       "417  Howrah Municipal Corporation (HMC)   \n",
       "418  Howrah Municipal Corporation (HMC)   \n",
       "419  Howrah Municipal Corporation (HMC)   \n",
       "420  Howrah Municipal Corporation (HMC)   \n",
       "421  Howrah Municipal Corporation (HMC)   \n",
       "\n",
       "                                           action_name  \\\n",
       "0    Search - Application Status of Kanyasree Prakalpa   \n",
       "1            Apply - Aikyasree Scholarship Application   \n",
       "2                          Apply - Income Certificates   \n",
       "3                            Apply - Caste Certificate   \n",
       "4                 Apply - Online Application for WBPRB   \n",
       "..                                                 ...   \n",
       "417                         Apply - New Trade License    \n",
       "418                   Apply - Renewal of Trade License   \n",
       "419                         Search - View & Pay Demand   \n",
       "420                             Search - Check License   \n",
       "421                     Print - Online License Reprint   \n",
       "\n",
       "                                          service_link  department_id  \\\n",
       "0      https://wbkanyashree.gov.in/kp_track_status.php           39.0   \n",
       "1    https://serv2.wbmdfcscholarship.org/user/insti...           24.0   \n",
       "2                                   /edist/income-cert           26.0   \n",
       "3         https://castcertificatewb.gov.in/application            4.0   \n",
       "4    http://wbpolice.gov.in/wbp/common/WBP_Recruitm...           15.0   \n",
       "..                                                 ...            ...   \n",
       "417       https://tl.myhmc.in/home.php?task=newlisense            NaN   \n",
       "418          https://tl.myhmc.in/home.php?task=renewal            NaN   \n",
       "419       https://tl.myhmc.in/home.php?task=viewdemand            NaN   \n",
       "420      https://tl.myhmc.in/home.php?task=viewlicense            NaN   \n",
       "421  https://tl.myhmc.in/home.php?task=onlineliscprint            NaN   \n",
       "\n",
       "                                       department_name  is_new service_type  \\\n",
       "0    Women & Child Development and Social Welfare D...       0            F   \n",
       "1     Minority Affairs & Madrasah Education Department       0            F   \n",
       "2                       Home & Hill Affairs Department       0            F   \n",
       "3                  Backward Classes Welfare Department       0            F   \n",
       "4                       Home & Hill Affairs Department       0            P   \n",
       "..                                                 ...     ...          ...   \n",
       "417  Urban Development and Municipal Affairs Depart...       0            F   \n",
       "418  Urban Development and Municipal Affairs Depart...       0            P   \n",
       "419  Urban Development and Municipal Affairs Depart...       0            F   \n",
       "420  Urban Development and Municipal Affairs Depart...       0            F   \n",
       "421  Urban Development and Municipal Affairs Depart...       0            F   \n",
       "\n",
       "     is_active  is_paid_service  \\\n",
       "0            1            False   \n",
       "1            1            False   \n",
       "2            1            False   \n",
       "3            1            False   \n",
       "4            1             True   \n",
       "..         ...              ...   \n",
       "417          1            False   \n",
       "418          1             True   \n",
       "419          1            False   \n",
       "420          1            False   \n",
       "421          1            False   \n",
       "\n",
       "                                          service_desc  \\\n",
       "0    It is a conditional cash transfer scheme with ...   \n",
       "1    Aikyashree is a scholarship programme under WB...   \n",
       "2    Income certificate is an essential legal docum...   \n",
       "3    The BCW Department issues the caste certificat...   \n",
       "4    To provide a platform where citizens of West B...   \n",
       "..                                                 ...   \n",
       "417                         Apply - New Trade License    \n",
       "418                   Apply - Renewal of Trade License   \n",
       "419                         Search - View & Pay Demand   \n",
       "420                             Search - Check License   \n",
       "421                     Print - Online License Reprint   \n",
       "\n",
       "                                          how_to_apply  \\\n",
       "0    Collect the application form from the institut...   \n",
       "1    Visit the WBMDFC Aikyashree Scholarship websit...   \n",
       "2                      Online, via edistrict.wb.gov.in   \n",
       "3                                                        \n",
       "4                  Online via wbprb.applythrunet.co.in   \n",
       "..                                                 ...   \n",
       "417                         Apply - New Trade License    \n",
       "418                   Apply - Renewal of Trade License   \n",
       "419                         Search - View & Pay Demand   \n",
       "420                             Search - Check License   \n",
       "421                     Print - Online License Reprint   \n",
       "\n",
       "                                  eligibility_criteria  \\\n",
       "0    All girl residents of West Bengal enrolled and...   \n",
       "1    Applicant must be a domicile of West Bengal. M...   \n",
       "2    Any individual who is employed and a resident ...   \n",
       "3    The criteria for application are updated by th...   \n",
       "4    Any individual above 18 years of age who is a ...   \n",
       "..                                                 ...   \n",
       "417                         Apply - New Trade License    \n",
       "418                   Apply - Renewal of Trade License   \n",
       "419                         Search - View & Pay Demand   \n",
       "420                             Search - Check License   \n",
       "421                     Print - Online License Reprint   \n",
       "\n",
       "                                          required_doc  \n",
       "0     Birth certificate, a statement declaring that...  \n",
       "1    Community Certificate (Attested by self if ove...  \n",
       "2    1.Residential Proof: Residential Certificate i...  \n",
       "3     Some standard documents like photo identity, ...  \n",
       "4    a. Age proof b. Marksheets c. Address proof d....  \n",
       "..                                                 ...  \n",
       "417                         Apply - New Trade License   \n",
       "418                   Apply - Renewal of Trade License  \n",
       "419                         Search - View & Pay Demand  \n",
       "420                             Search - Check License  \n",
       "421                     Print - Online License Reprint  \n",
       "\n",
       "[316 rows x 15 columns]"
      ]
     },
     "execution_count": 32,
     "metadata": {},
     "output_type": "execute_result"
    }
   ],
   "source": [
    "service_master[service_master['is_active'] == 1]"
   ]
  },
  {
   "cell_type": "code",
   "execution_count": 19,
   "id": "54235195",
   "metadata": {},
   "outputs": [
    {
     "name": "stdout",
     "output_type": "stream",
     "text": [
      "<class 'pandas.core.frame.DataFrame'>\n",
      "RangeIndex: 765767 entries, 0 to 765766\n",
      "Data columns (total 14 columns):\n",
      " #   Column         Non-Null Count   Dtype  \n",
      "---  ------         --------------   -----  \n",
      " 0   citizen_id     765767 non-null  object \n",
      " 1   citizen_phone  765767 non-null  object \n",
      " 2   citizen_name   765767 non-null  object \n",
      " 3   alt_phone      765767 non-null  object \n",
      " 4   email          765767 non-null  object \n",
      " 5   guardian_name  765549 non-null  object \n",
      " 6   district_id    765310 non-null  float64\n",
      " 7   sub_div_id     765310 non-null  float64\n",
      " 8   gp_id          765310 non-null  float64\n",
      " 9   gender         765310 non-null  object \n",
      " 10  dob            765310 non-null  object \n",
      " 11  age            765310 non-null  float64\n",
      " 12  caste          765310 non-null  object \n",
      " 13  religion       765312 non-null  object \n",
      "dtypes: float64(4), object(10)\n",
      "memory usage: 81.8+ MB\n"
     ]
    }
   ],
   "source": [
    "citizen_master.info()"
   ]
  },
  {
   "cell_type": "code",
   "execution_count": 20,
   "id": "d6f96212",
   "metadata": {},
   "outputs": [
    {
     "name": "stdout",
     "output_type": "stream",
     "text": [
      "           citizen_id citizen_phone      citizen_name alt_phone email  \\\n",
      "299895  GRPF_11025069    8910078445        SUJATA DEY                   \n",
      "327102  GRPF_11049786    9907584488  SANGITA BANERJEE                   \n",
      "327166  GRPF_11049789    9907584488   GOUTAM BANERJEE                   \n",
      "327188  GRPF_11049790    9907584488   SIULI  BANERJEE                   \n",
      "327238  GRPF_11049792    9907584488    TAPAN BANERJEE                   \n",
      "...               ...           ...               ...       ...   ...   \n",
      "424790  GRPF_11121771    8584959256   gopal sadhukhan                   \n",
      "424956  GRPF_11121935    8930724258        PRIYA METE                   \n",
      "424959  GRPF_11121938    8930724258         RAJU METE                   \n",
      "424963  GRPF_11121942    8930724258       RITIKA METE                   \n",
      "424964  GRPF_11121943    8930724258        NIBHA METE                   \n",
      "\n",
      "       guardian_name  district_id  sub_div_id  gp_id gender   dob  age caste  \\\n",
      "299895                        NaN         NaN    NaN   None  None  NaN  None   \n",
      "327102                        NaN         NaN    NaN   None  None  NaN  None   \n",
      "327166                        NaN         NaN    NaN   None  None  NaN  None   \n",
      "327188                        NaN         NaN    NaN   None  None  NaN  None   \n",
      "327238                        NaN         NaN    NaN   None  None  NaN  None   \n",
      "...              ...          ...         ...    ...    ...   ...  ...   ...   \n",
      "424790                        NaN         NaN    NaN   None  None  NaN  None   \n",
      "424956          None          NaN         NaN    NaN   None  None  NaN  None   \n",
      "424959          None          NaN         NaN    NaN   None  None  NaN  None   \n",
      "424963          None          NaN         NaN    NaN   None  None  NaN  None   \n",
      "424964          None          NaN         NaN    NaN   None  None  NaN  None   \n",
      "\n",
      "       religion  \n",
      "299895     None  \n",
      "327102     None  \n",
      "327166     None  \n",
      "327188     None  \n",
      "327238     None  \n",
      "...         ...  \n",
      "424790     None  \n",
      "424956     None  \n",
      "424959     None  \n",
      "424963     None  \n",
      "424964     None  \n",
      "\n",
      "[457 rows x 14 columns]\n"
     ]
    }
   ],
   "source": [
    "null_services = citizen_master[citizen_master.isnull().any(axis=1)]\n",
    "print(null_services)"
   ]
  },
  {
   "cell_type": "code",
   "execution_count": 21,
   "id": "22af8b73",
   "metadata": {},
   "outputs": [
    {
     "data": {
      "text/plain": [
       "np.int64(0)"
      ]
     },
     "execution_count": 21,
     "metadata": {},
     "output_type": "execute_result"
    }
   ],
   "source": [
    "citizen_master.duplicated().sum()"
   ]
  },
  {
   "cell_type": "code",
   "execution_count": 22,
   "id": "6bc46158",
   "metadata": {},
   "outputs": [
    {
     "data": {
      "text/plain": [
       "np.int64(0)"
      ]
     },
     "execution_count": 22,
     "metadata": {},
     "output_type": "execute_result"
    }
   ],
   "source": [
    "service_master.duplicated().sum()"
   ]
  },
  {
   "cell_type": "code",
   "execution_count": 23,
   "id": "66f5c7cf",
   "metadata": {},
   "outputs": [],
   "source": [
    "import pandas as pd"
   ]
  },
  {
   "cell_type": "code",
   "execution_count": 24,
   "id": "9d0eccd5",
   "metadata": {},
   "outputs": [],
   "source": [
    "merged_df = pd.merge(citizen_master, provision, left_on='citizen_id', right_on='customer_id', how='inner')"
   ]
  },
  {
   "cell_type": "code",
   "execution_count": 25,
   "id": "8a5d84ec",
   "metadata": {},
   "outputs": [
    {
     "data": {
      "text/plain": [
       "(1282239, 23)"
      ]
     },
     "execution_count": 25,
     "metadata": {},
     "output_type": "execute_result"
    }
   ],
   "source": [
    "merged_df.shape"
   ]
  },
  {
   "cell_type": "code",
   "execution_count": 26,
   "id": "00145d62",
   "metadata": {},
   "outputs": [
    {
     "data": {
      "text/plain": [
       "citizen_id          0\n",
       "citizen_phone       0\n",
       "citizen_name        0\n",
       "alt_phone           0\n",
       "email               0\n",
       "guardian_name     410\n",
       "district_id       703\n",
       "sub_div_id        703\n",
       "gp_id             703\n",
       "gender            703\n",
       "dob               703\n",
       "age               703\n",
       "caste             703\n",
       "religion          701\n",
       "bsk_id              0\n",
       "bsk_name            0\n",
       "customer_id         0\n",
       "customer_name       0\n",
       "customer_phone      0\n",
       "service_id          0\n",
       "service_name        0\n",
       "prov_date           0\n",
       "docket_no           0\n",
       "dtype: int64"
      ]
     },
     "execution_count": 26,
     "metadata": {},
     "output_type": "execute_result"
    }
   ],
   "source": [
    "merged_df.isnull().sum()"
   ]
  },
  {
   "cell_type": "code",
   "execution_count": 27,
   "id": "62bad433",
   "metadata": {},
   "outputs": [
    {
     "data": {
      "text/plain": [
       "(citizen_id\n",
       " GRPA_12484164    325\n",
       " GRPA_12504125    316\n",
       " GRPA_12435809    312\n",
       " GRPA_12465567    272\n",
       " GRPA_12471245    269\n",
       "                 ... \n",
       " GRPD_10839220      1\n",
       " GRPD_10860788      1\n",
       " GRPC_14013673      1\n",
       " GRPC_13986607      1\n",
       " GRPC_13943094      1\n",
       " Name: count, Length: 764903, dtype: int64,\n",
       " pandas.core.series.Series)"
      ]
     },
     "execution_count": 27,
     "metadata": {},
     "output_type": "execute_result"
    }
   ],
   "source": [
    "new_df = merged_df['citizen_id'].value_counts()\n",
    "new_df, type(new_df)"
   ]
  },
  {
   "cell_type": "code",
   "execution_count": 28,
   "id": "51fa63b2",
   "metadata": {},
   "outputs": [
    {
     "data": {
      "text/plain": [
       "count\n",
       "1      566332\n",
       "2      103861\n",
       "3       37635\n",
       "5       19410\n",
       "4       18564\n",
       "        ...  \n",
       "110         1\n",
       "175         1\n",
       "160         1\n",
       "188         1\n",
       "206         1\n",
       "Name: count, Length: 136, dtype: int64"
      ]
     },
     "execution_count": 28,
     "metadata": {},
     "output_type": "execute_result"
    }
   ],
   "source": [
    "merged_df['citizen_id'].value_counts().value_counts()"
   ]
  },
  {
   "cell_type": "code",
   "execution_count": 29,
   "id": "7e8957ba",
   "metadata": {},
   "outputs": [
    {
     "data": {
      "image/png": "[encoded data removed]",
      "text/plain": [
       "<Figure size 1000x600 with 1 Axes>"
      ]
     },
     "metadata": {},
     "output_type": "display_data"
    }
   ],
   "source": [
    "import pandas as pd\n",
    "import matplotlib.pyplot as plt\n",
    "\n",
    "# Step 1: Count how many times each citizen_id appears\n",
    "citizen_counts = merged_df['citizen_id'].value_counts()\n",
    "\n",
    "# Step 2: Count how many customers fall into each frequency bucket\n",
    "count_distribution = citizen_counts.value_counts().sort_index()\n",
    "\n",
    "# Step 3: Plot\n",
    "plt.figure(figsize=(10,6))\n",
    "plt.bar(count_distribution.index, count_distribution.values, color='skyblue')\n",
    "plt.xlabel('Number of Times a Customer Appears')\n",
    "plt.ylabel('Number of Customers')\n",
    "plt.title('Distribution of Customer Activity')\n",
    "plt.xticks(count_distribution.index)\n",
    "plt.grid(axis='y', linestyle='--', alpha=0.7)\n",
    "plt.tight_layout()\n",
    "plt.show()\n"
   ]
  },
  {
   "cell_type": "code",
   "execution_count": 39,
   "id": "38686004",
   "metadata": {},
   "outputs": [
    {
     "data": {
      "image/png": "[encoded data removed]",
      "text/plain": [
       "<Figure size 1000x600 with 1 Axes>"
      ]
     },
     "metadata": {},
     "output_type": "display_data"
    }
   ],
   "source": [
    "import seaborn as sns\n",
    "\n",
    "sns.set(style=\"whitegrid\")\n",
    "plt.figure(figsize=(10,6))\n",
    "sns.barplot(x=count_distribution.index, y=count_distribution.values, color=\"salmon\")\n",
    "plt.xlabel('Number of Times a Customer Appears')\n",
    "plt.ylabel('Number of Customers')\n",
    "plt.title('Distribution of Customer Activity')\n",
    "plt.tight_layout()\n",
    "plt.show()\n"
   ]
  },
  {
   "cell_type": "code",
   "execution_count": null,
   "id": "6a796270",
   "metadata": {},
   "outputs": [
    {
     "name": "stdout",
     "output_type": "stream",
     "text": [
      "Collecting scikit-learn\n",
      "  Downloading scikit_learn-1.6.1-cp310-cp310-win_amd64.whl.metadata (15 kB)\n",
      "Requirement already satisfied: numpy>=1.19.5 in c:\\users\\aicoe\\recommender\\venv\\lib\\site-packages (from scikit-learn) (2.2.6)\n",
      "Collecting scipy>=1.6.0 (from scikit-learn)\n",
      "  Downloading scipy-1.15.3-cp310-cp310-win_amd64.whl.metadata (60 kB)\n",
      "Collecting joblib>=1.2.0 (from scikit-learn)\n",
      "  Downloading joblib-1.5.1-py3-none-any.whl.metadata (5.6 kB)\n",
      "Collecting threadpoolctl>=3.1.0 (from scikit-learn)\n",
      "  Downloading threadpoolctl-3.6.0-py3-none-any.whl.metadata (13 kB)\n",
      "Downloading scikit_learn-1.6.1-cp310-cp310-win_amd64.whl (11.1 MB)\n",
      "   ---------------------------------------- 0.0/11.1 MB ? eta -:--:--\n",
      "   --- ------------------------------------ 1.0/11.1 MB 5.6 MB/s eta 0:00:02\n",
      "   -------- ------------------------------- 2.4/11.1 MB 6.1 MB/s eta 0:00:02\n",
      "   --------------- ------------------------ 4.2/11.1 MB 7.0 MB/s eta 0:00:01\n",
      "   ------------------- -------------------- 5.5/11.1 MB 7.1 MB/s eta 0:00:01\n",
      "   --------------------------- ------------ 7.6/11.1 MB 7.6 MB/s eta 0:00:01\n",
      "   -------------------------------- ------- 9.2/11.1 MB 7.7 MB/s eta 0:00:01\n",
      "   ------------------------------------ --- 10.2/11.1 MB 7.4 MB/s eta 0:00:01\n",
      "   ---------------------------------------- 11.1/11.1 MB 6.9 MB/s eta 0:00:00\n",
      "Downloading joblib-1.5.1-py3-none-any.whl (307 kB)\n",
      "Downloading scipy-1.15.3-cp310-cp310-win_amd64.whl (41.3 MB)\n",
      "   ---------------------------------------- 0.0/41.3 MB ? eta -:--:--\n",
      "   - -------------------------------------- 1.0/41.3 MB 6.3 MB/s eta 0:00:07\n",
      "   -- ------------------------------------- 2.1/41.3 MB 5.3 MB/s eta 0:00:08\n",
      "   --- ------------------------------------ 3.4/41.3 MB 5.6 MB/s eta 0:00:07\n",
      "   --- ------------------------------------ 3.4/41.3 MB 5.6 MB/s eta 0:00:07\n",
      "   --- ------------------------------------ 3.9/41.3 MB 3.8 MB/s eta 0:00:10\n",
      "   ---- ----------------------------------- 4.5/41.3 MB 3.7 MB/s eta 0:00:11\n",
      "   ---- ----------------------------------- 5.0/41.3 MB 3.5 MB/s eta 0:00:11\n",
      "   ----- ---------------------------------- 5.8/41.3 MB 3.4 MB/s eta 0:00:11\n",
      "   ------ --------------------------------- 6.3/41.3 MB 3.4 MB/s eta 0:00:11\n",
      "   ------ --------------------------------- 6.8/41.3 MB 3.3 MB/s eta 0:00:11\n",
      "   ------- -------------------------------- 7.3/41.3 MB 3.2 MB/s eta 0:00:11\n",
      "   ------- -------------------------------- 8.1/41.3 MB 3.2 MB/s eta 0:00:11\n",
      "   -------- ------------------------------- 8.7/41.3 MB 3.1 MB/s eta 0:00:11\n",
      "   -------- ------------------------------- 9.2/41.3 MB 3.1 MB/s eta 0:00:11\n",
      "   --------- ------------------------------ 9.7/41.3 MB 3.1 MB/s eta 0:00:11\n",
      "   --------- ------------------------------ 10.2/41.3 MB 3.1 MB/s eta 0:00:11\n",
      "   ---------- ----------------------------- 11.0/41.3 MB 3.1 MB/s eta 0:00:10\n",
      "   ----------- ---------------------------- 12.3/41.3 MB 3.2 MB/s eta 0:00:09\n",
      "   ------------- -------------------------- 13.9/41.3 MB 3.5 MB/s eta 0:00:08\n",
      "   -------------- ------------------------- 14.7/41.3 MB 3.5 MB/s eta 0:00:08\n",
      "   --------------- ------------------------ 15.7/41.3 MB 3.5 MB/s eta 0:00:08\n",
      "   ---------------- ----------------------- 17.0/41.3 MB 3.7 MB/s eta 0:00:07\n",
      "   ------------------ --------------------- 18.9/41.3 MB 3.9 MB/s eta 0:00:06\n",
      "   -------------------- ------------------- 20.7/41.3 MB 4.1 MB/s eta 0:00:06\n",
      "   --------------------- ------------------ 22.5/41.3 MB 4.3 MB/s eta 0:00:05\n",
      "   ---------------------- ----------------- 23.6/41.3 MB 4.3 MB/s eta 0:00:05\n",
      "   ----------------------- ---------------- 24.6/41.3 MB 4.3 MB/s eta 0:00:04\n",
      "   ------------------------ --------------- 25.4/41.3 MB 4.3 MB/s eta 0:00:04\n",
      "   ------------------------- -------------- 26.7/41.3 MB 4.4 MB/s eta 0:00:04\n",
      "   -------------------------- ------------- 27.5/41.3 MB 4.4 MB/s eta 0:00:04\n",
      "   --------------------------- ------------ 28.6/41.3 MB 4.4 MB/s eta 0:00:03\n",
      "   ---------------------------- ----------- 29.9/41.3 MB 4.4 MB/s eta 0:00:03\n",
      "   ----------------------------- ---------- 30.9/41.3 MB 4.4 MB/s eta 0:00:03\n",
      "   ------------------------------- -------- 32.2/41.3 MB 4.5 MB/s eta 0:00:03\n",
      "   -------------------------------- ------- 33.6/41.3 MB 4.5 MB/s eta 0:00:02\n",
      "   --------------------------------- ------ 34.1/41.3 MB 4.5 MB/s eta 0:00:02\n",
      "   --------------------------------- ------ 34.6/41.3 MB 4.5 MB/s eta 0:00:02\n",
      "   ---------------------------------- ----- 35.1/41.3 MB 4.4 MB/s eta 0:00:02\n",
      "   ---------------------------------- ----- 35.7/41.3 MB 4.3 MB/s eta 0:00:02\n",
      "   ----------------------------------- ---- 36.2/41.3 MB 4.3 MB/s eta 0:00:02\n",
      "   ----------------------------------- ---- 36.7/41.3 MB 4.3 MB/s eta 0:00:02\n",
      "   ------------------------------------ --- 37.5/41.3 MB 4.2 MB/s eta 0:00:01\n",
      "   ------------------------------------- -- 39.1/41.3 MB 4.3 MB/s eta 0:00:01\n",
      "   ---------------------------------------  41.2/41.3 MB 4.4 MB/s eta 0:00:01\n",
      "   ---------------------------------------- 41.3/41.3 MB 4.4 MB/s eta 0:00:00\n",
      "Downloading threadpoolctl-3.6.0-py3-none-any.whl (18 kB)\n",
      "Installing collected packages: threadpoolctl, scipy, joblib, scikit-learn\n",
      "\n",
      "   ---------- ----------------------------- 1/4 [scipy]\n",
      "   ---------- ----------------------------- 1/4 [scipy]\n",
      "   ---------- ----------------------------- 1/4 [scipy]\n",
      "   ---------- ----------------------------- 1/4 [scipy]\n",
      "   ---------- ----------------------------- 1/4 [scipy]\n",
      "   ---------- ----------------------------- 1/4 [scipy]\n",
      "   ---------- ----------------------------- 1/4 [scipy]\n",
      "   ---------- ----------------------------- 1/4 [scipy]\n",
      "   ---------- ----------------------------- 1/4 [scipy]\n",
      "   ---------- ----------------------------- 1/4 [scipy]\n",
      "   ---------- ----------------------------- 1/4 [scipy]\n",
      "   ---------- ----------------------------- 1/4 [scipy]\n",
      "   ---------- ----------------------------- 1/4 [scipy]\n",
      "   ---------- ----------------------------- 1/4 [scipy]\n",
      "   ---------- ----------------------------- 1/4 [scipy]\n",
      "   ---------- ----------------------------- 1/4 [scipy]\n",
      "   ---------- ----------------------------- 1/4 [scipy]\n",
      "   ---------- ----------------------------- 1/4 [scipy]\n",
      "   ---------- ----------------------------- 1/4 [scipy]\n",
      "   ---------- ----------------------------- 1/4 [scipy]\n",
      "   ---------- ----------------------------- 1/4 [scipy]\n",
      "   ---------- ----------------------------- 1/4 [scipy]\n",
      "   ---------- ----------------------------- 1/4 [scipy]\n",
      "   ---------- ----------------------------- 1/4 [scipy]\n",
      "   ---------- ----------------------------- 1/4 [scipy]\n",
      "   ---------- ----------------------------- 1/4 [scipy]\n",
      "   ---------- ----------------------------- 1/4 [scipy]\n",
      "   ---------- ----------------------------- 1/4 [scipy]\n",
      "   ---------- ----------------------------- 1/4 [scipy]\n",
      "   ---------- ----------------------------- 1/4 [scipy]\n",
      "   ---------- ----------------------------- 1/4 [scipy]\n",
      "   ---------- ----------------------------- 1/4 [scipy]\n",
      "   ---------- ----------------------------- 1/4 [scipy]\n",
      "   ---------- ----------------------------- 1/4 [scipy]\n",
      "   ---------- ----------------------------- 1/4 [scipy]\n",
      "   ---------- ----------------------------- 1/4 [scipy]\n",
      "   ---------- ----------------------------- 1/4 [scipy]\n",
      "   ---------- ----------------------------- 1/4 [scipy]\n",
      "   ---------- ----------------------------- 1/4 [scipy]\n",
      "   ---------- ----------------------------- 1/4 [scipy]\n",
      "   ---------- ----------------------------- 1/4 [scipy]\n",
      "   ---------- ----------------------------- 1/4 [scipy]\n",
      "   ---------- ----------------------------- 1/4 [scipy]\n",
      "   ---------- ----------------------------- 1/4 [scipy]\n",
      "   ---------- ----------------------------- 1/4 [scipy]\n",
      "   ---------- ----------------------------- 1/4 [scipy]\n",
      "   ---------- ----------------------------- 1/4 [scipy]\n",
      "   ---------- ----------------------------- 1/4 [scipy]\n",
      "   ---------- ----------------------------- 1/4 [scipy]\n",
      "   ---------- ----------------------------- 1/4 [scipy]\n",
      "   ---------- ----------------------------- 1/4 [scipy]\n",
      "   ---------- ----------------------------- 1/4 [scipy]\n",
      "   ---------- ----------------------------- 1/4 [scipy]\n",
      "   ---------- ----------------------------- 1/4 [scipy]\n",
      "   ---------- ----------------------------- 1/4 [scipy]\n",
      "   ---------- ----------------------------- 1/4 [scipy]\n",
      "   ---------- ----------------------------- 1/4 [scipy]\n",
      "   ---------- ----------------------------- 1/4 [scipy]\n",
      "   ---------- ----------------------------- 1/4 [scipy]\n",
      "   ---------- ----------------------------- 1/4 [scipy]\n",
      "   ---------- ----------------------------- 1/4 [scipy]\n",
      "   ---------- ----------------------------- 1/4 [scipy]\n",
      "   ---------- ----------------------------- 1/4 [scipy]\n",
      "   ---------- ----------------------------- 1/4 [scipy]\n",
      "   ---------- ----------------------------- 1/4 [scipy]\n",
      "   ---------- ----------------------------- 1/4 [scipy]\n",
      "   ---------- ----------------------------- 1/4 [scipy]\n",
      "   ---------- ----------------------------- 1/4 [scipy]\n",
      "   ---------- ----------------------------- 1/4 [scipy]\n",
      "   ---------- ----------------------------- 1/4 [scipy]\n",
      "   -------------------- ------------------- 2/4 [joblib]\n",
      "   -------------------- ------------------- 2/4 [joblib]\n",
      "   -------------------- ------------------- 2/4 [joblib]\n",
      "   -------------------- ------------------- 2/4 [joblib]\n",
      "   -------------------- ------------------- 2/4 [joblib]\n",
      "   -------------------- ------------------- 2/4 [joblib]\n",
      "   ------------------------------ --------- 3/4 [scikit-learn]\n",
      "   ------------------------------ --------- 3/4 [scikit-learn]\n",
      "   ------------------------------ --------- 3/4 [scikit-learn]\n",
      "   ------------------------------ --------- 3/4 [scikit-learn]\n",
      "   ------------------------------ --------- 3/4 [scikit-learn]\n",
      "   ------------------------------ --------- 3/4 [scikit-learn]\n",
      "   ------------------------------ --------- 3/4 [scikit-learn]\n",
      "   ------------------------------ --------- 3/4 [scikit-learn]\n",
      "   ------------------------------ --------- 3/4 [scikit-learn]\n",
      "   ------------------------------ --------- 3/4 [scikit-learn]\n",
      "   ------------------------------ --------- 3/4 [scikit-learn]\n",
      "   ------------------------------ --------- 3/4 [scikit-learn]\n",
      "   ------------------------------ --------- 3/4 [scikit-learn]\n",
      "   ------------------------------ --------- 3/4 [scikit-learn]\n",
      "   ------------------------------ --------- 3/4 [scikit-learn]\n",
      "   ------------------------------ --------- 3/4 [scikit-learn]\n",
      "   ------------------------------ --------- 3/4 [scikit-learn]\n",
      "   ------------------------------ --------- 3/4 [scikit-learn]\n",
      "   ------------------------------ --------- 3/4 [scikit-learn]\n",
      "   ------------------------------ --------- 3/4 [scikit-learn]\n",
      "   ------------------------------ --------- 3/4 [scikit-learn]\n",
      "   ------------------------------ --------- 3/4 [scikit-learn]\n",
      "   ------------------------------ --------- 3/4 [scikit-learn]\n",
      "   ------------------------------ --------- 3/4 [scikit-learn]\n",
      "   ------------------------------ --------- 3/4 [scikit-learn]\n",
      "   ------------------------------ --------- 3/4 [scikit-learn]\n",
      "   ------------------------------ --------- 3/4 [scikit-learn]\n",
      "   ------------------------------ --------- 3/4 [scikit-learn]\n",
      "   ------------------------------ --------- 3/4 [scikit-learn]\n",
      "   ------------------------------ --------- 3/4 [scikit-learn]\n",
      "   ------------------------------ --------- 3/4 [scikit-learn]\n",
      "   ------------------------------ --------- 3/4 [scikit-learn]\n",
      "   ------------------------------ --------- 3/4 [scikit-learn]\n",
      "   ------------------------------ --------- 3/4 [scikit-learn]\n",
      "   ------------------------------ --------- 3/4 [scikit-learn]\n",
      "   ------------------------------ --------- 3/4 [scikit-learn]\n",
      "   ------------------------------ --------- 3/4 [scikit-learn]\n",
      "   ------------------------------ --------- 3/4 [scikit-learn]\n",
      "   ------------------------------ --------- 3/4 [scikit-learn]\n",
      "   ------------------------------ --------- 3/4 [scikit-learn]\n",
      "   ------------------------------ --------- 3/4 [scikit-learn]\n",
      "   ------------------------------ --------- 3/4 [scikit-learn]\n",
      "   ------------------------------ --------- 3/4 [scikit-learn]\n",
      "   ------------------------------ --------- 3/4 [scikit-learn]\n",
      "   ---------------------------------------- 4/4 [scikit-learn]\n",
      "\n",
      "Successfully installed joblib-1.5.1 scikit-learn-1.6.1 scipy-1.15.3 threadpoolctl-3.6.0\n",
      "Note: you may need to restart the kernel to use updated packages.\n"
     ]
    }
   ],
   "source": [
    "# %pip install scikit-learn"
   ]
  },
  {
   "cell_type": "code",
   "execution_count": 30,
   "id": "cd9835e9",
   "metadata": {},
   "outputs": [],
   "source": [
    "citizen = citizen_master.copy()"
   ]
  },
  {
   "cell_type": "code",
   "execution_count": 57,
   "id": "6b5ff482",
   "metadata": {},
   "outputs": [],
   "source": [
    "citizen_master = citizen.copy()"
   ]
  },
  {
   "cell_type": "code",
   "execution_count": 33,
   "id": "3235ee00",
   "metadata": {},
   "outputs": [],
   "source": [
    "import pandas as pd\n",
    "from sklearn.preprocessing import StandardScaler\n",
    "from sklearn.cluster import KMeans\n",
    "\n",
    "# Drop irrelevant or high-cardinality columns\n",
    "citizen_master = citizen_master.drop(columns=[\n",
    "    'citizen_id', 'citizen_phone', 'alt_phone', 'email',\n",
    "    'citizen_name', 'guardian_name', 'dob'\n",
    "])\n",
    "\n",
    "# Handle missing values\n",
    "citizen_master['district_id'] = citizen_master['district_id'].fillna(citizen_master['district_id'].mode()[0])\n",
    "citizen_master['sub_div_id'] = citizen_master['sub_div_id'].fillna(citizen_master['sub_div_id'].mode()[0])\n",
    "citizen_master['gp_id'] = citizen_master['gp_id'].fillna(citizen_master['gp_id'].mode()[0])\n",
    "citizen_master['gender'] = citizen_master['gender'].fillna('Unknown')\n",
    "citizen_master['age'] = citizen_master['age'].fillna(citizen_master['age'].median())\n",
    "citizen_master['caste'] = citizen_master['caste'].fillna('Unknown')\n",
    "citizen_master['religion'] = citizen_master['religion'].fillna('Unknown')\n",
    "\n",
    "# Age group feature engineering\n",
    "citizen_master['age_group'] = pd.cut(citizen_master['age'], bins=[0, 18, 35, 50, 65, 200], \n",
    "                                     labels=['Child', 'Youth', 'Adult', 'Middle Age', 'Senior'])\n",
    "\n",
    "# One-hot encoding of categorical features\n",
    "categorical_cols = ['gender', 'caste', 'religion', 'age_group']\n",
    "citizen_master = pd.get_dummies(citizen_master, columns=categorical_cols, drop_first=True)\n",
    "\n",
    "# Scaling numerical features\n",
    "numerical_cols = ['district_id', 'sub_div_id', 'gp_id', 'age']\n",
    "scaler = StandardScaler()\n",
    "citizen_master[numerical_cols] = scaler.fit_transform(citizen_master[numerical_cols])\n",
    "\n",
    "# KMeans clustering\n",
    "kmeans = KMeans(n_clusters=11, random_state=42)\n",
    "citizen_master['cluster'] = kmeans.fit_predict(citizen_master)\n"
   ]
  },
  {
   "cell_type": "code",
   "execution_count": 34,
   "id": "b8aa8143",
   "metadata": {},
   "outputs": [
    {
     "data": {
      "image/png": "[encoded data removed]",
      "text/plain": [
       "<Figure size 1000x600 with 1 Axes>"
      ]
     },
     "metadata": {},
     "output_type": "display_data"
    }
   ],
   "source": [
    "import matplotlib.pyplot as plt\n",
    "from sklearn.decomposition import PCA\n",
    "\n",
    "# Drop the 'cluster' column temporarily to apply PCA on features only\n",
    "features = citizen_master.drop(columns=['cluster'])\n",
    "\n",
    "# Reduce to 2D using PCA\n",
    "pca = PCA(n_components=2)\n",
    "principal_components = pca.fit_transform(features)\n",
    "\n",
    "# Create a DataFrame with PCA results and cluster labels\n",
    "pca_df = pd.DataFrame(data=principal_components, columns=['PC1', 'PC2'])\n",
    "pca_df['cluster'] = citizen_master['cluster']\n",
    "\n",
    "# Plot the clusters\n",
    "plt.figure(figsize=(10, 6))\n",
    "for cluster_id in sorted(pca_df['cluster'].unique()):\n",
    "    subset = pca_df[pca_df['cluster'] == cluster_id]\n",
    "    plt.scatter(subset['PC1'], subset['PC2'], label=f'Cluster {cluster_id}', alpha=0.6)\n",
    "\n",
    "plt.title('Citizen Clusters (PCA Reduced to 2D)', fontsize=14)\n",
    "plt.xlabel('Principal Component 1')\n",
    "plt.ylabel('Principal Component 2')\n",
    "plt.legend()\n",
    "plt.grid(True)\n",
    "plt.tight_layout()\n",
    "plt.show()\n"
   ]
  },
  {
   "cell_type": "code",
   "execution_count": null,
   "id": "69d09e33",
   "metadata": {},
   "outputs": [],
   "source": []
  }
 ],
 "metadata": {
  "kernelspec": {
   "display_name": "Python 3",
   "language": "python",
   "name": "python3"
  },
  "language_info": {
   "codemirror_mode": {
    "name": "ipython",
    "version": 3
   },
   "file_extension": ".py",
   "mimetype": "text/x-python",
   "name": "python",
   "nbconvert_exporter": "python",
   "pygments_lexer": "ipython3",
   "version": "3.10.16"
  }
 },
 "nbformat": 4,
 "nbformat_minor": 5
}
